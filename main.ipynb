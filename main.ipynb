{
 "cells": [
  {
   "cell_type": "code",
   "execution_count": null,
   "metadata": {},
   "outputs": [],
   "source": [
    "# Importing necessary libraries\n",
    "import pandas as pd\n",
    "import numpy as np\n",
    "from sklearn.model_selection import train_test_split\n",
    "from sklearn.preprocessing import StandardScaler\n",
    "from sklearn.neighbors import KNeighborsClassifier\n",
    "from sklearn.metrics import accuracy_score, classification_report, confusion_matrix\n",
    "from sklearn.preprocessing import LabelEncoder\n",
    "import matplotlib.pyplot as plt\n",
    "from sklearn.datasets import make_classification\n"
   ]
  },
  {
   "cell_type": "code",
   "execution_count": null,
   "metadata": {},
   "outputs": [],
   "source": [
    "# Loading the dataset\n",
    "# Assuming your dataset is in a file named 'your_dataset.csv'\n",
    "df = pd.read_csv('dataset.csv', sep=';')\n",
    "df.head()"
   ]
  },
  {
   "cell_type": "code",
   "execution_count": null,
   "metadata": {},
   "outputs": [],
   "source": [
    "# Spliting the dataset into features and target variable\n",
    "X = df.drop('y', axis=1)\n",
    "y = df['y']"
   ]
  },
  {
   "cell_type": "code",
   "execution_count": null,
   "metadata": {},
   "outputs": [],
   "source": [
    "X.head()"
   ]
  },
  {
   "cell_type": "code",
   "execution_count": null,
   "metadata": {},
   "outputs": [],
   "source": [
    "y.head()"
   ]
  },
  {
   "cell_type": "code",
   "execution_count": null,
   "metadata": {},
   "outputs": [],
   "source": [
    "# Spliting the dataset into training and testing sets\n",
    "X_train, X_test, y_train, y_test = train_test_split(X, y, test_size=0.2, random_state=42)"
   ]
  },
  {
   "cell_type": "code",
   "execution_count": null,
   "metadata": {},
   "outputs": [],
   "source": [
    "# Preprocessing the data\n",
    "# 'job', 'marital', 'education', 'default', 'housing', 'loan', 'contact', 'month', and 'poutcome' are categorical columns\n",
    "# Converting non-numeric values into numeric values for fitting\n",
    "\n",
    "categorical_columns = ['job', 'marital', 'education', 'default', 'housing', 'loan', 'contact', 'month', 'poutcome']\n",
    "\n",
    "# Convert categorical variables to numeric using label encoding\n",
    "label_encoder = {}\n",
    "for column in categorical_columns:\n",
    "    le = LabelEncoder()\n",
    "    X_train[column] = le.fit_transform(X_train[column])\n",
    "    X_test[column] = le.transform(X_test[column])\n",
    "    label_encoder[column] = le\n",
    "\n",
    "X_train.head()\n"
   ]
  },
  {
   "cell_type": "code",
   "execution_count": null,
   "metadata": {},
   "outputs": [],
   "source": [
    "# Droping the 'contact' column\n",
    "X_train = X_train.drop('contact', axis=1)\n",
    "X_train = X_train.drop('day', axis=1)\n",
    "X_train = X_train.drop('month', axis=1)\n",
    "\n",
    "X_test = X_test.drop('contact', axis=1)\n",
    "X_test = X_test.drop('day', axis=1)\n",
    "X_test = X_test.drop('month', axis=1)\n",
    "\n",
    "X_train.head()\n",
    "X_train['default'].max()"
   ]
  },
  {
   "cell_type": "code",
   "execution_count": null,
   "metadata": {},
   "outputs": [],
   "source": [
    "# Splitting the dataset into training and testing sets\n",
    "y_train, y_test = df.loc[X_train.index, 'y'], df.loc[X_test.index, 'y']\n"
   ]
  },
  {
   "cell_type": "code",
   "execution_count": null,
   "metadata": {},
   "outputs": [],
   "source": [
    "y_train.head()"
   ]
  },
  {
   "cell_type": "code",
   "execution_count": null,
   "metadata": {},
   "outputs": [],
   "source": [
    "# Scaling the features\n",
    "scaler = StandardScaler()\n",
    "X_train_scaled = scaler.fit_transform(X_train)\n",
    "X_test_scaled = scaler.transform(X_test)\n",
    "\n",
    "X_train.head()"
   ]
  },
  {
   "cell_type": "code",
   "execution_count": null,
   "metadata": {},
   "outputs": [],
   "source": [
    "# Creating and train the KNN model\n",
    "k_value = 3  # You can experiment with different values for k\n",
    "knn_model = KNeighborsClassifier(n_neighbors=k_value)\n",
    "knn_model.fit(X_train_scaled, y_train)"
   ]
  },
  {
   "cell_type": "code",
   "execution_count": null,
   "metadata": {},
   "outputs": [],
   "source": [
    "# Evaluating the model\n",
    "y_pred = knn_model.predict(X_test_scaled)"
   ]
  },
  {
   "cell_type": "code",
   "execution_count": null,
   "metadata": {},
   "outputs": [],
   "source": [
    "# Printing evaluation metrics\n",
    "print(\"Accuracy:\", accuracy_score(y_test, y_pred))\n",
    "print(\"\\nConfusion Matrix:\\n\", confusion_matrix(y_test, y_pred))\n",
    "print(\"\\nClassification Report:\\n\", classification_report(y_test, y_pred))\n"
   ]
  },
  {
   "cell_type": "code",
   "execution_count": null,
   "metadata": {},
   "outputs": [],
   "source": [
    "def predict(data):\n",
    "    encoded_new_data = data.copy()\n",
    "\n",
    "    for column, le in label_encoder.items():\n",
    "        if column in encoded_new_data.columns:\n",
    "            encoded_new_data[column] = le.transform(encoded_new_data[column])\n",
    "\n",
    "\n",
    "    new_data_scaled = scaler.transform(encoded_new_data)\n",
    "\n",
    "    # Make predictions using the trained KNN model\n",
    "    new_data_predictions = knn_model.predict(new_data_scaled)\n",
    "    return new_data_predictions\n",
    "    \n"
   ]
  },
  {
   "cell_type": "code",
   "execution_count": null,
   "metadata": {},
   "outputs": [],
   "source": [
    "new_data = pd.DataFrame({\n",
    "    'age': [30],\n",
    "    'job': ['management'],\n",
    "    'marital': ['single'],\n",
    "    'education': ['tertiary'],\n",
    "    'default': ['no'],\n",
    "    'balance': [3000],\n",
    "    'housing': ['yes'],\n",
    "    'loan': ['no'],\n",
    "    # 'day': [15],\n",
    "    # 'month': ['nov'],\n",
    "    'duration': [200],\n",
    "    'campaign': [2],\n",
    "    'pdays': [50],\n",
    "    'previous': [3],\n",
    "    'poutcome': ['success']\n",
    "})\n",
    "\n",
    "new_data_scaled = predict(new_data)\n",
    "\n",
    "# Display the predictions\n",
    "print(\"Predictions for the new data:\")\n",
    "print(new_data_scaled)"
   ]
  },
  {
   "cell_type": "code",
   "execution_count": null,
   "metadata": {},
   "outputs": [],
   "source": [
    "# Create a toy dataset for demonstration\n",
    "X, y = make_classification(n_samples=1000, n_features=15, n_classes=2, random_state=42)\n",
    "\n",
    "# Extract only the relevant features (default and balance)\n",
    "X_subset = X[:, [5, 7]]  # Index of features\n",
    "\n",
    "# Fit the KNN model on the subset of features\n",
    "knn_model = KNeighborsClassifier(n_neighbors=5)\n",
    "knn_model.fit(X_subset, y)\n",
    "\n",
    "# Plot decision boundary\n",
    "plt.figure(figsize=(8, 6))\n",
    "\n",
    "# Plotting the decision boundary\n",
    "h = 0.02  # step size in the mesh\n",
    "x_min, x_max = X_subset[:, 0].min() - 1, X_subset[:, 0].max() + 1\n",
    "y_min, y_max = X_subset[:, 1].min() - 1, X_subset[:, 1].max() + 1\n",
    "\n",
    "xx, yy = np.meshgrid(np.arange(x_min, x_max, h), np.arange(y_min, y_max, h))\n",
    "Z = knn_model.predict(np.c_[xx.ravel(), yy.ravel()])\n",
    "Z = Z.reshape(xx.shape)\n",
    "\n",
    "plt.contourf(xx, yy, Z, cmap=plt.cm.Paired, alpha=0.8)\n",
    "\n",
    "# Plotting the data points\n",
    "plt.scatter(X_subset[:, 0], X_subset[:, 1], c=y, edgecolors='k', marker='o', cmap=plt.cm.Paired)\n",
    "plt.xlabel('Balance')\n",
    "plt.ylabel('Loan')\n",
    "plt.title('Decision Boundary for KNN (Default vs Balance)')\n",
    "\n",
    "# Set the x-axis and y-axis limits to reflect the actual range of the dataset\n",
    "plt.xlim(X_subset[:, 0].min(), X_subset[:, 0].max())\n",
    "plt.ylim(X_subset[:, 1].min(), X_subset[:, 1].max())\n",
    "\n",
    "plt.show()"
   ]
  }
 ],
 "metadata": {
  "kernelspec": {
   "display_name": "base",
   "language": "python",
   "name": "python3"
  },
  "language_info": {
   "codemirror_mode": {
    "name": "ipython",
    "version": 3
   },
   "file_extension": ".py",
   "mimetype": "text/x-python",
   "name": "python",
   "nbconvert_exporter": "python",
   "pygments_lexer": "ipython3",
   "version": "3.11.5"
  }
 },
 "nbformat": 4,
 "nbformat_minor": 2
}
